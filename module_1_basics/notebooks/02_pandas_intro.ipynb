{
 "cells": [
  {
   "cell_type": "markdown",
   "id": "386402d1",
   "metadata": {},
   "source": [
    "# 02 · pandas Giriş (Gerçek Veri ile)\n",
    "Okuma sırası: yerel `/content/data` → GitHub RAW → Fallback."
   ]
  },
  {
   "cell_type": "markdown",
   "id": "37c09bd2",
   "metadata": {},
   "source": [
    "> ⚠️ **Önemli:** Bu not defteri *eğitmen reposundaki orijinal şablondur*.\n",
    "Lütfen kendi hesabınıza **kopyalayın** ve **kopya üzerinde** çalışın.\n",
    "\n",
    "**Colab**: `File → Save a copy in Drive` veya `File → Save a copy in GitHub`"
   ]
  },
  {
   "cell_type": "markdown",
   "id": "0ef49ff2",
   "metadata": {},
   "source": [
    "## 0) Yol/URL"
   ]
  },
  {
   "cell_type": "code",
   "execution_count": null,
   "id": "29c3e458",
   "metadata": {},
   "outputs": [],
   "source": [
    "LOCAL_PATHS = [\"/content/data/retail_sales.csv\"]\n",
    "NET_URLS = [\"https://raw.githubusercontent.com/<YOUR_USERNAME>/professional-datascience-bootcamp/main/module_1_basics/data/retail_sales.csv\"]"
   ]
  },
  {
   "cell_type": "markdown",
   "id": "39bd3ed1",
   "metadata": {},
   "source": [
    "## 1) Yükleme"
   ]
  },
  {
   "cell_type": "code",
   "execution_count": null,
   "id": "575471e9",
   "metadata": {},
   "outputs": [],
   "source": [
    "import pandas as pd, os\n",
    "df = None\n",
    "for p in LOCAL_PATHS:\n",
    "    if os.path.exists(p):\n",
    "        try:\n",
    "            df = pd.read_csv(p); print(\"Yerelden:\", p, df.shape); break\n",
    "        except Exception as e: print(\"Yerel hata:\", e)\n",
    "if df is None:\n",
    "    for url in NET_URLS:\n",
    "        try:\n",
    "            df = pd.read_csv(url); print(\"URL'den:\", url, df.shape); break\n",
    "        except Exception as e: print(\"URL hata:\", e)\n",
    "if df is None:\n",
    "    import seaborn as sns\n",
    "    df = sns.load_dataset('tips'); print(\"Fallback: seaborn tips\", df.shape)\n",
    "df.head()"
   ]
  },
  {
   "cell_type": "markdown",
   "id": "af9ad834",
   "metadata": {},
   "source": [
    "## 2) İnceleme & Dönüşüm"
   ]
  },
  {
   "cell_type": "code",
   "execution_count": null,
   "id": "ee5b1488",
   "metadata": {},
   "outputs": [],
   "source": [
    "df.info()"
   ]
  },
  {
   "cell_type": "code",
   "execution_count": null,
   "id": "6c90233e",
   "metadata": {},
   "outputs": [],
   "source": [
    "df.describe(include='all')"
   ]
  },
  {
   "cell_type": "code",
   "execution_count": null,
   "id": "5575103d",
   "metadata": {},
   "outputs": [],
   "source": [
    "df.columns = [c.strip().lower().replace(' ','_') for c in df.columns]\n",
    "if set(['quantity','price']).issubset(df.columns):\n",
    "    df['revenue'] = df['quantity'] * df['price']\n",
    "df.head(3)"
   ]
  },
  {
   "cell_type": "markdown",
   "id": "58521b14",
   "metadata": {},
   "source": [
    "## 3) Eksik Değerler"
   ]
  },
  {
   "cell_type": "code",
   "execution_count": null,
   "id": "6ad5c202",
   "metadata": {},
   "outputs": [],
   "source": [
    "df.isna().sum().sort_values(ascending=False).head(10)"
   ]
  },
  {
   "cell_type": "markdown",
   "id": "d2e34286",
   "metadata": {},
   "source": [
    "### ✅ Mini Görev"
   ]
  },
  {
   "cell_type": "code",
   "execution_count": null,
   "id": "d0ab6a19",
   "metadata": {},
   "outputs": [],
   "source": [
    "# En çok eksik olan 3 kolonu yazdırın; stratejinizi 1-2 cümle ile açıklayın."
   ]
  }
 ],
 "metadata": {
  "colab": {
   "name": "02_pandas_intro.ipynb"
  }
 },
 "nbformat": 4,
 "nbformat_minor": 5
}
