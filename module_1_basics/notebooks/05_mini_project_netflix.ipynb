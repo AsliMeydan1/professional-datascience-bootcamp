{
 "cells": [
  {
   "cell_type": "markdown",
   "id": "700ecbc1",
   "metadata": {},
   "source": [
    "# 05 · Mini Proje — Netflix EDA\n",
    "Okuma sırası: Yerel `/content/data` → GitHub RAW → Mirror → Fallback."
   ]
  },
  {
   "cell_type": "markdown",
   "id": "37c09bd2",
   "metadata": {},
   "source": [
    "> ⚠️ **Önemli:** Bu not defteri *eğitmen reposundaki orijinal şablondur*.\n",
    "Lütfen kendi hesabınıza **kopyalayın** ve **kopya üzerinde** çalışın.\n",
    "\n",
    "**Colab**: `File → Save a copy in Drive` veya `File → Save a copy in GitHub`"
   ]
  },
  {
   "cell_type": "markdown",
   "id": "1e87ce00",
   "metadata": {},
   "source": [
    "## 1) Veri yükleme"
   ]
  },
  {
   "cell_type": "code",
   "execution_count": null,
   "id": "a73bf7ab",
   "metadata": {},
   "outputs": [],
   "source": [
    "import pandas as pd, os, seaborn as sns, matplotlib.pyplot as plt\n",
    "NETFLIX_LOCAL = \"/content/data/netflix_titles.csv\"\n",
    "NET_URLS = [\n",
    "    \"https://raw.githubusercontent.com/<YOUR_USERNAME>/professional-datascience-bootcamp/main/module_1_basics/data/netflix_titles.csv\",\n",
    "    \"https://huggingface.co/datasets/hugginglearners/netflix-shows/resolve/main/netflix_titles.csv\",\n",
    "    \"https://zenodo.org/records/13925131/files/netflix_titles.csv?download=1\",\n",
    "]\n",
    "df = None\n",
    "if os.path.exists(NETFLIX_LOCAL):\n",
    "    try:\n",
    "        df = pd.read_csv(NETFLIX_LOCAL); print(\"Yerelden:\", NETFLIX_LOCAL, df.shape)\n",
    "    except Exception as e:\n",
    "        print(\"Yerel okuma hata:\", e)\n",
    "if df is None:\n",
    "    for url in NET_URLS:\n",
    "        try:\n",
    "            print(\"Deniyor:\", url)\n",
    "            df = pd.read_csv(url); print(\"URL'den:\", url, df.shape); break\n",
    "        except Exception as e:\n",
    "            print(\"URL hata:\", e)\n",
    "if df is None:\n",
    "    print(\"URL'lerden okunamadı — küçük bir örnek oluşturuluyor.\")\n",
    "    df = pd.DataFrame({\n",
    "        'title':['Money Heist','Stranger Things','Roma','Dark','The Crown'],\n",
    "        'type':['TV Show','TV Show','Movie','TV Show','TV Show'],\n",
    "        'country':['Spain','USA','Mexico','Germany','UK'],\n",
    "        'release_year':[2017,2016,2018,2017,2016],\n",
    "        'listed_in':['Crime, Drama','Sci-Fi, Horror','Drama','Sci-Fi, Mystery','Historical, Drama'],\n",
    "        'duration':['5 Seasons','4 Seasons','135 min','4 Seasons','5 Seasons']\n",
    "    })\n",
    "df.head()"
   ]
  },
  {
   "cell_type": "markdown",
   "id": "e27a8d44",
   "metadata": {},
   "source": [
    "## 2) Temizlik ve keşif"
   ]
  },
  {
   "cell_type": "code",
   "execution_count": null,
   "id": "b6a858e3",
   "metadata": {},
   "outputs": [],
   "source": [
    "df.info()\n",
    "df.columns = [c.strip().lower().replace(' ','_') for c in df.columns]\n",
    "for col in ['country','listed_in','type','title']:\n",
    "    if col in df.columns: df[col] = df[col].astype(str).str.strip()\n",
    "df.isna().sum().sort_values(ascending=False).head(10)"
   ]
  },
  {
   "cell_type": "markdown",
   "id": "ba143af5",
   "metadata": {},
   "source": [
    "## 3) Örnek grafikler"
   ]
  },
  {
   "cell_type": "code",
   "execution_count": null,
   "id": "5f7b117b",
   "metadata": {},
   "outputs": [],
   "source": [
    "if 'release_year' in df.columns:\n",
    "    df['release_year'].value_counts().sort_index().plot(kind='line')\n",
    "    import matplotlib.pyplot as plt; plt.title('Yıllara Göre Yayın Sayısı'); plt.xlabel('Yıl'); plt.ylabel('Sayı'); plt.show()\n",
    "if 'type' in df.columns:\n",
    "    import seaborn as sns, matplotlib.pyplot as plt\n",
    "    sns.countplot(data=df, x='type'); plt.title('Tür Dağılımı'); plt.show()"
   ]
  },
  {
   "cell_type": "markdown",
   "id": "e88a0004",
   "metadata": {},
   "source": [
    "### ✅ Proje Görevleri"
   ]
  },
  {
   "cell_type": "code",
   "execution_count": null,
   "id": "77b59b57",
   "metadata": {},
   "outputs": [],
   "source": [
    "# 1) Eksik değer müdahalesi (+gerekçe)\n",
    "# 2) Türlere (listed_in) ve ülkelere göre dağılım grafikleri\n",
    "# 3) En az 3 içgörü + 1 öneri\n",
    "# 4) 3 slaytlık kısa sunum\n"
   ]
  }
 ],
 "metadata": {
  "colab": {
   "name": "05_mini_project_netflix.ipynb"
  }
 },
 "nbformat": 4,
 "nbformat_minor": 5
}
