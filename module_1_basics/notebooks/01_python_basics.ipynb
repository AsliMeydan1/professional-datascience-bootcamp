{
 "cells": [
  {
   "cell_type": "markdown",
   "id": "c2b0413d",
   "metadata": {},
   "source": [
    "# 01 · Python Temelleri\n",
    "**Hedefler:** değişkenler, veri tipleri, koleksiyonlar, döngüler, fonksiyonlar.\n",
    "**Çalıştırma:** Runtime ▸ Run all."
   ]
  },
  {
   "cell_type": "markdown",
   "id": "37c09bd2",
   "metadata": {},
   "source": [
    "> ⚠️ **Önemli:** Bu not defteri *eğitmen reposundaki orijinal şablondur*.\n",
    "Lütfen kendi hesabınıza **kopyalayın** ve **kopya üzerinde** çalışın.\n",
    "\n",
    "**Colab**: `File → Save a copy in Drive` veya `File → Save a copy in GitHub`"
   ]
  },
  {
   "cell_type": "markdown",
   "id": "f050624b",
   "metadata": {},
   "source": [
    "## 1) Değişkenler ve Tipler"
   ]
  },
  {
   "cell_type": "code",
   "execution_count": null,
   "id": "eda8ee8e",
   "metadata": {},
   "outputs": [],
   "source": [
    "x = 10\n",
    "y = 3.5\n",
    "name = \"Asli\"\n",
    "is_ok = True\n",
    "print(type(x), type(y), type(name), type(is_ok))"
   ]
  },
  {
   "cell_type": "markdown",
   "id": "90cbf5af",
   "metadata": {},
   "source": [
    "## 2) Koleksiyonlar"
   ]
  },
  {
   "cell_type": "code",
   "execution_count": null,
   "id": "308c14f3",
   "metadata": {},
   "outputs": [],
   "source": [
    "nums = [1,2,3,4,5]\n",
    "squares = [n*n for n in nums]\n",
    "person = {\"name\":\"Asli\",\"role\":\"Analyst\",\"level\":1}\n",
    "coords = (41.0, 29.0)\n",
    "tags = {\"python\",\"pandas\",\"ml\"}\n",
    "print(squares); print(person); print(coords); print(tags)"
   ]
  },
  {
   "cell_type": "markdown",
   "id": "5482fce8",
   "metadata": {},
   "source": [
    "## 3) Koşul & Döngü"
   ]
  },
  {
   "cell_type": "code",
   "execution_count": null,
   "id": "f6e204a9",
   "metadata": {},
   "outputs": [],
   "source": [
    "total_even = sum(n for n in range(1,21) if n%2==0)\n",
    "total_even"
   ]
  },
  {
   "cell_type": "markdown",
   "id": "bd90cd8f",
   "metadata": {},
   "source": [
    "## 4) Fonksiyonlar"
   ]
  },
  {
   "cell_type": "code",
   "execution_count": null,
   "id": "e113a1cb",
   "metadata": {},
   "outputs": [],
   "source": [
    "def kare_al(x): return x*x\n",
    "def tekleri_filtrele(lst): return [n for n in lst if n%2==1]\n",
    "kare_al(7), tekleri_filtrele(list(range(1,11)))"
   ]
  },
  {
   "cell_type": "markdown",
   "id": "4c652bce",
   "metadata": {},
   "source": [
    "### ✅ Mini Görev"
   ]
  },
  {
   "cell_type": "code",
   "execution_count": null,
   "id": "822c9141",
   "metadata": {},
   "outputs": [],
   "source": [
    "# 1) kup_al(x) fonksiyonunu yazın\n",
    "# 2) ciftleri_filtrele(lst) fonksiyonu yazın\n"
   ]
  }
 ],
 "metadata": {
  "colab": {
   "name": "01_python_basics.ipynb"
  }
 },
 "nbformat": 4,
 "nbformat_minor": 5
}
