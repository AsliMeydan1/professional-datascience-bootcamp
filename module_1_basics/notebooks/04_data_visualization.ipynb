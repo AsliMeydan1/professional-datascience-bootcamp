{
 "cells": [
  {
   "cell_type": "markdown",
   "id": "a5b0b3b6",
   "metadata": {},
   "source": [
    "# 04 · Görselleştirme (matplotlib & seaborn)"
   ]
  },
  {
   "cell_type": "markdown",
   "id": "37c09bd2",
   "metadata": {},
   "source": [
    "> ⚠️ **Önemli:** Bu not defteri *eğitmen reposundaki orijinal şablondur*.\n",
    "Lütfen kendi hesabınıza **kopyalayın** ve **kopya üzerinde** çalışın.\n",
    "\n",
    "**Colab**: `File → Save a copy in Drive` veya `File → Save a copy in GitHub`"
   ]
  },
  {
   "cell_type": "markdown",
   "id": "140640bf",
   "metadata": {},
   "source": [
    "## 1) Veri Yükleme"
   ]
  },
  {
   "cell_type": "code",
   "execution_count": null,
   "id": "b6039d4d",
   "metadata": {},
   "outputs": [],
   "source": [
    "import pandas as pd, os, seaborn as sns, matplotlib.pyplot as plt\n",
    "sns.set_theme()\n",
    "path = \"/content/data/retail_sales.csv\"\n",
    "if os.path.exists(path):\n",
    "    df = pd.read_csv(path); print(\"Yüklendi:\", path, df.shape)\n",
    "else:\n",
    "    df = sns.load_dataset('tips').rename(columns={'total_bill':'price','size':'quantity'})\n",
    "    df['country']='USA'; df['month']=1\n",
    "    print(\"Fallback: seaborn tips\")"
   ]
  },
  {
   "cell_type": "markdown",
   "id": "6d4810b5",
   "metadata": {},
   "source": [
    "## 2) Bar Chart"
   ]
  },
  {
   "cell_type": "code",
   "execution_count": null,
   "id": "67cb59dd",
   "metadata": {},
   "outputs": [],
   "source": [
    "if 'country' in df.columns:\n",
    "    ax = df['country'].value_counts().head(10).plot(kind='bar')\n",
    "    ax.set_title('İlk 10 Ülke'); ax.set_xlabel('Ülke'); ax.set_ylabel('Kayıt')\n",
    "    import matplotlib.pyplot as plt; plt.show()\n",
    "else:\n",
    "    print(\"country kolonu yok.\")"
   ]
  },
  {
   "cell_type": "markdown",
   "id": "26e9355c",
   "metadata": {},
   "source": [
    "## 3) Box Plot"
   ]
  },
  {
   "cell_type": "code",
   "execution_count": null,
   "id": "292371d9",
   "metadata": {},
   "outputs": [],
   "source": [
    "num_cols = df.select_dtypes(include='number').columns.tolist()\n",
    "if num_cols:\n",
    "    import seaborn as sns, matplotlib.pyplot as plt\n",
    "    sns.boxplot(data=df[num_cols]); plt.title('Sayısal Sütunlar (Boxplot)'); plt.show()\n",
    "else:\n",
    "    print(\"Sayısal kolon yok.\")"
   ]
  },
  {
   "cell_type": "markdown",
   "id": "5dedc61f",
   "metadata": {},
   "source": [
    "## 4) Korelasyon Isı Haritası"
   ]
  },
  {
   "cell_type": "code",
   "execution_count": null,
   "id": "4ad7cb3c",
   "metadata": {},
   "outputs": [],
   "source": [
    "num_df = df.select_dtypes(include='number')\n",
    "if not num_df.empty:\n",
    "    import seaborn as sns, matplotlib.pyplot as plt\n",
    "    corr = num_df.corr(numeric_only=True)\n",
    "    sns.heatmap(corr); plt.title('Korelasyon Isı Haritası'); plt.show()\n",
    "else:\n",
    "    print(\"Sayısal kolon yok.\")"
   ]
  },
  {
   "cell_type": "markdown",
   "id": "69476a09",
   "metadata": {},
   "source": [
    "### ✅ Mini Görev"
   ]
  },
  {
   "cell_type": "code",
   "execution_count": null,
   "id": "ff93fa47",
   "metadata": {},
   "outputs": [],
   "source": [
    "# 3 grafik üretin ve her biri için 1 cümle içgörü yazın."
   ]
  }
 ],
 "metadata": {
  "colab": {
   "name": "04_data_visualization.ipynb"
  }
 },
 "nbformat": 4,
 "nbformat_minor": 5
}
