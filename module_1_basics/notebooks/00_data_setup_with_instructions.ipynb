{
 "cells": [
  {
   "cell_type": "markdown",
   "id": "405af2f1",
   "metadata": {},
   "source": [
    "\n",
    "# 💻 Çalışma Ortamı Kullanımı (Colab & GitHub)\n",
    "\n",
    "Bu not defteri, **Professional Data Science Bootcamp** eğitiminde kullanılan uygulama dosyalarının bir parçasıdır.  \n",
    "Her katılımcı, kendi çalışma kopyasında özgürce kod yazabilir ve değişiklik yapabilir.  \n",
    "\n",
    "---\n",
    "\n",
    "## 🪄 1️⃣ Dosyayı nasıl açacağız?\n",
    "\n",
    "Bu dosyayı GitHub üzerinden açarken sayfanın üstünde şöyle bir buton göreceksiniz:\n",
    "\n",
    "> **“Open in Colab”**\n",
    "\n",
    "Bu butona tıkladığınızda, not defteri Google Colab ortamında açılır.  \n",
    "Yani bilgisayarınıza hiçbir kurulum yapmadan, tarayıcı üzerinden Python kodlarını çalıştırabilirsiniz. 🎉  \n",
    "\n",
    "---\n",
    "\n",
    "## 💾 2️⃣ Değişiklikler nasıl kaydedilir?\n",
    "\n",
    "Colab’daki tüm değişiklikler **sadece sizin oturumunuzda geçerlidir**.  \n",
    "Orijinal eğitmen dosyası değişmez.  \n",
    "Eğer kendi çalışmalarınızı saklamak istiyorsanız, aşağıdaki adımlardan birini mutlaka uygulayın:\n",
    "\n",
    "- 📁 `File → Save a copy in Drive` → Dosya, kendi Google Drive’ınızda kaydedilir.  \n",
    "- 🧭 (isteğe bağlı) `File → Save a copy in GitHub` → Dosya kendi GitHub hesabınıza fork edilir.  \n",
    "\n",
    "> 🔸 Bu sayede kendi versiyonunuzda çalışabilir, notlar ekleyebilir, kodları değiştirebilirsiniz.\n",
    "\n",
    "---\n",
    "\n",
    "## 👩‍💻 3️⃣ Orijinal dosyayı değiştirmeyin\n",
    "\n",
    "Bu not defteri eğitim sırasında herkes tarafından kullanılmaktadır.  \n",
    "Bu nedenle orijinal sürümde **kod veya hücre silmeyin / değiştirmeyin.**  \n",
    "Kendi çalışma kopyanızı oluşturduktan sonra değişiklikleri rahatça yapabilirsiniz.\n",
    "\n",
    "---\n",
    "\n",
    "## ☁️ 4️⃣ Verilere erişim\n",
    "\n",
    "Bu not defteri otomatik olarak gerekli CSV dosyalarını (`netflix_titles.csv`, `retail_sales.csv`) indirir.  \n",
    "Veri yoksa GitHub RAW veya yedek kaynaklardan (Hugging Face, Zenodo) indirilecektir.  \n",
    "Hiçbir şey indirmenize gerek yok — “Run all” dediğinizde her şey hazır olur.\n",
    "\n",
    "---\n",
    "\n",
    "## 🎓 5️⃣ Özet\n",
    "\n",
    "| Ne yapıyorum? | Nereye kaydolur? | Orijinal dosya etkilenir mi? |\n",
    "|----------------|------------------|------------------------------|\n",
    "| Sadece Colab’da çalıştırıyorum | Geçici oturum | ❌ Hayır |\n",
    "| Save a copy in Drive | Kendi Google Drive’ım | ❌ Hayır |\n",
    "| Save a copy in GitHub | Kendi GitHub hesabım | ❌ Hayır |\n",
    "| GitHub’da “Edit” deyip kaydediyorum | Eğitmenin repo’su | ✅ Evet (yapmayın) |\n",
    "\n",
    "---\n",
    "\n",
    "## 🌱 Hazırsanız başlayalım!\n",
    "\n",
    "Şimdi aşağıdaki hücreleri sırayla çalıştırın ve ortamınızı hazırlayın 👇  \n"
   ]
  },
  {
   "cell_type": "markdown",
   "id": "9fe31ff5",
   "metadata": {},
   "source": [
    "# 00 · Veri Kurulumu (Quick Start)\n",
    "Bu not defteri, ders CSV'lerini otomatik indirir ve `/content/data/` klasörüne yerleştirir.\n",
    "Okuma sırası: **GitHub RAW (kendi reponuz) → Mirror → Fallback**."
   ]
  },
  {
   "cell_type": "markdown",
   "id": "37c09bd2",
   "metadata": {},
   "source": [
    "> ⚠️ **Önemli:** Bu not defteri *eğitmen reposundaki orijinal şablondur*.\n",
    "Lütfen kendi hesabınıza **kopyalayın** ve **kopya üzerinde** çalışın.\n",
    "\n",
    "**Colab**: `File → Save a copy in Drive` veya `File → Save a copy in GitHub`"
   ]
  },
  {
   "cell_type": "markdown",
   "id": "c9a2dcff",
   "metadata": {},
   "source": [
    "## 1) Klasör oluştur"
   ]
  },
  {
   "cell_type": "code",
   "execution_count": null,
   "id": "768d56c3",
   "metadata": {},
   "outputs": [],
   "source": [
    "import pathlib\n",
    "DATA_DIR = \"/content/data\"\n",
    "pathlib.Path(DATA_DIR).mkdir(parents=True, exist_ok=True)\n",
    "print(\"DATA_DIR:\", DATA_DIR)"
   ]
  },
  {
   "cell_type": "markdown",
   "id": "abfb51d5",
   "metadata": {},
   "source": [
    "## 2) Yardımcı fonksiyonlar"
   ]
  },
  {
   "cell_type": "code",
   "execution_count": null,
   "id": "8f9d6b31",
   "metadata": {},
   "outputs": [],
   "source": [
    "import pandas as pd\n",
    "def try_read_csv(urls, **kwargs):\n",
    "    last_err = None\n",
    "    for url in urls:\n",
    "        try:\n",
    "            print(\"→ trying:\", url)\n",
    "            return pd.read_csv(url, **kwargs)\n",
    "        except Exception as e:\n",
    "            print(\"  failed:\", e)\n",
    "            last_err = e\n",
    "    raise last_err\n",
    "\n",
    "def save_df(df, path):\n",
    "    df.to_csv(path, index=False)\n",
    "    print(\"✔ saved:\", path)"
   ]
  },
  {
   "cell_type": "markdown",
   "id": "9ba7277b",
   "metadata": {},
   "source": [
    "## 3) Netflix verisini indir"
   ]
  },
  {
   "cell_type": "code",
   "execution_count": null,
   "id": "4760ab0d",
   "metadata": {},
   "outputs": [],
   "source": [
    "NETFLIX_URLS = [\n",
    "    \"https://raw.githubusercontent.com/<YOUR_USERNAME>/professional-datascience-bootcamp/main/module_1_basics/data/netflix_titles.csv\",\n",
    "    \"https://huggingface.co/datasets/hugginglearners/netflix-shows/resolve/main/netflix_titles.csv\",\n",
    "    \"https://zenodo.org/records/13925131/files/netflix_titles.csv?download=1\",\n",
    "]\n",
    "try:\n",
    "    df_netflix = try_read_csv(NETFLIX_URLS)\n",
    "except Exception as e:\n",
    "    print(\"Uyarı: URL'lerden okunamadı, küçük örnek oluşturuluyor.\", e)\n",
    "    df_netflix = pd.DataFrame({\n",
    "        'title':['Money Heist','Stranger Things','Roma','Dark','The Crown'],\n",
    "        'type':['TV Show','TV Show','Movie','TV Show','TV Show'],\n",
    "        'country':['Spain','USA','Mexico','Germany','UK'],\n",
    "        'release_year':[2017,2016,2018,2017,2016],\n",
    "        'listed_in':['Crime, Drama','Sci-Fi, Horror','Drama','Sci-Fi, Mystery','Historical, Drama'],\n",
    "        'duration':['5 Seasons','4 Seasons','135 min','4 Seasons','5 Seasons']\n",
    "    })\n",
    "save_df(df_netflix, f\"{DATA_DIR}/netflix_titles.csv\")\n",
    "df_netflix.head()"
   ]
  },
  {
   "cell_type": "markdown",
   "id": "6c827271",
   "metadata": {},
   "source": [
    "## 4) Retail verisini indir"
   ]
  },
  {
   "cell_type": "code",
   "execution_count": null,
   "id": "10bc9ef6",
   "metadata": {},
   "outputs": [],
   "source": [
    "RETAIL_URLS = [\n",
    "    \"https://raw.githubusercontent.com/<YOUR_USERNAME>/professional-datascience-bootcamp/main/module_1_basics/data/retail_sales.csv\",\n",
    "    \"https://raw.githubusercontent.com/plotly/datasets/master/2014_apple_stock.csv\",  # demo örnek\n",
    "]\n",
    "try:\n",
    "    df_retail = try_read_csv(RETAIL_URLS)\n",
    "except Exception as e:\n",
    "    print(\"Uyarı: URL'lerden okunamadı, seaborn 'tips' fallback'i kullanılacak.\", e)\n",
    "    import seaborn as sns\n",
    "    df_retail = sns.load_dataset('tips')\n",
    "    if 'total_bill' in df_retail.columns:\n",
    "        df_retail = df_retail.rename(columns={'total_bill':'price','size':'quantity'})\n",
    "        df_retail['quantity'] = df_retail['quantity'].fillna(1)\n",
    "        df_retail['country'] = 'USA'\n",
    "        df_retail['month'] = 1\n",
    "save_df(df_retail, f\"{DATA_DIR}/retail_sales.csv\")\n",
    "df_retail.head()"
   ]
  },
  {
   "cell_type": "markdown",
   "id": "0afd809e",
   "metadata": {},
   "source": [
    "> ✅ `/content/data/netflix_titles.csv` ve `/content/data/retail_sales.csv` hazır."
   ]
  }
 ],
 "metadata": {
  "colab": {
   "name": "00_data_setup.ipynb"
  }
 },
 "nbformat": 4,
 "nbformat_minor": 5
}
