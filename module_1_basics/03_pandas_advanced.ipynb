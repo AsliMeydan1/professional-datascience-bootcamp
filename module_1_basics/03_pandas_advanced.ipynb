{
 "cells": [
  {
   "cell_type": "markdown",
   "id": "6e73fe59",
   "metadata": {},
   "source": [
    "# 03 · pandas İleri (groupby/merge/pivot/apply)"
   ]
  },
  {
   "cell_type": "markdown",
   "id": "37c09bd2",
   "metadata": {},
   "source": [
    "> ⚠️ **Önemli:** Bu not defteri *eğitmen reposundaki orijinal şablondur*.\n",
    "Lütfen kendi hesabınıza **kopyalayın** ve **kopya üzerinde** çalışın.\n",
    "\n",
    "**Colab**: `File → Save a copy in Drive` veya `File → Save a copy in GitHub`"
   ]
  },
  {
   "cell_type": "markdown",
   "id": "b82fd7ef",
   "metadata": {},
   "source": [
    "## 1) Veri Yükleme"
   ]
  },
  {
   "cell_type": "code",
   "execution_count": null,
   "id": "e39147f4",
   "metadata": {},
   "outputs": [],
   "source": [
    "import pandas as pd, os, seaborn as sns\n",
    "path = \"/content/data/retail_sales.csv\"\n",
    "if os.path.exists(path):\n",
    "    df = pd.read_csv(path); print(\"Yüklendi:\", path, df.shape)\n",
    "else:\n",
    "    df = sns.load_dataset('tips').rename(columns={'total_bill':'price','size':'quantity'})\n",
    "    df['country']='USA'; df['month']=1\n",
    "    print(\"Fallback: seaborn tips\")"
   ]
  },
  {
   "cell_type": "markdown",
   "id": "4f8f03f3",
   "metadata": {},
   "source": [
    "## 2) Groupby & Aggregate"
   ]
  },
  {
   "cell_type": "code",
   "execution_count": null,
   "id": "3c692516",
   "metadata": {},
   "outputs": [],
   "source": [
    "gb = df.groupby('country').agg(\n",
    "    total_qty=('quantity','sum') if 'quantity' in df.columns else ('price','count'),\n",
    "    avg_price=('price','mean') if 'price' in df.columns else ('price','mean')\n",
    ").sort_values('total_qty' if 'quantity' in df.columns else 'avg_price', ascending=False)\n",
    "gb.head()"
   ]
  },
  {
   "cell_type": "markdown",
   "id": "7461bd15",
   "metadata": {},
   "source": [
    "## 3) Pivot"
   ]
  },
  {
   "cell_type": "code",
   "execution_count": null,
   "id": "53b22ea5",
   "metadata": {},
   "outputs": [],
   "source": [
    "import numpy as np\n",
    "if set(['country','month']).issubset(df.columns) and 'price' in df.columns:\n",
    "    pv = pd.pivot_table(df, values='price', index='country', columns='month', aggfunc='mean', fill_value=0)\n",
    "    pv.head()\n",
    "else:\n",
    "    print(\"Pivot için country, month, price önerilir.\")"
   ]
  },
  {
   "cell_type": "markdown",
   "id": "52e04a2b",
   "metadata": {},
   "source": [
    "## 4) Apply / Lambda"
   ]
  },
  {
   "cell_type": "code",
   "execution_count": null,
   "id": "d8f98879",
   "metadata": {},
   "outputs": [],
   "source": [
    "if 'price' in df.columns:\n",
    "    df['price_bucket'] = df['price'].apply(lambda x: 'high' if x>=df['price'].median() else 'low')\n",
    "    df['price_bucket'].value_counts()\n",
    "else:\n",
    "    print(\"price yok.\")"
   ]
  },
  {
   "cell_type": "markdown",
   "id": "bc7ffeed",
   "metadata": {},
   "source": [
    "### ✅ Mini Görev"
   ]
  },
  {
   "cell_type": "code",
   "execution_count": null,
   "id": "7f06f3c4",
   "metadata": {},
   "outputs": [],
   "source": [
    "# Ülke bazında toplam gelir (varsa quantity*price) ve en yüksek 3 ülke"
   ]
  }
 ],
 "metadata": {
  "colab": {
   "name": "03_pandas_advanced.ipynb"
  }
 },
 "nbformat": 4,
 "nbformat_minor": 5
}
